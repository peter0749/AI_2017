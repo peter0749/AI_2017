{
 "cells": [
  {
   "cell_type": "code",
   "execution_count": 40,
   "metadata": {},
   "outputs": [],
   "source": [
    "%matplotlib inline\n",
    "import numpy as np\n",
    "import sklearn as skl\n",
    "from sklearn.model_selection import cross_val_score\n",
    "from sklearn.svm import SVC, LinearSVC\n",
    "from sklearn import tree\n",
    "from sklearn.ensemble import RandomForestClassifier, AdaBoostClassifier, BaggingClassifier\n",
    "from sklearn.neural_network import MLPClassifier\n",
    "from sklearn.dummy import DummyClassifier\n",
    "from sklearn.decomposition import TruncatedSVD\n",
    "import matplotlib.pyplot as plt\n",
    "import seaborn as sns\n",
    "import pandas as pd\n",
    "import keras\n",
    "from keras.datasets import mnist\n",
    "from keras.models import Sequential\n",
    "from keras.layers import Dense, Dropout, Flatten\n",
    "from keras.layers import Conv2D, MaxPooling2D\n",
    "from keras.callbacks import EarlyStopping\n",
    "from keras import backend as K\n",
    "from imblearn.under_sampling import RandomUnderSampler\n",
    "from imblearn.over_sampling import SMOTE\n",
    "sns.set_style('darkgrid')\n"
   ]
  },
  {
   "cell_type": "markdown",
   "metadata": {},
   "source": [
    "資料預處理"
   ]
  },
  {
   "cell_type": "code",
   "execution_count": 41,
   "metadata": {},
   "outputs": [
    {
     "name": "stdout",
     "output_type": "stream",
     "text": [
      "  (0, 106332)\t1.0\n",
      "  (0, 67)\t1.0\n",
      "  (0, 3)\t1.0\n",
      "  (0, 1)\t1.0\n",
      "  (1, 222395)\t1.0\n",
      "  (1, 200)\t1.0\n",
      "  (1, 3)\t1.0\n",
      "  (1, 1)\t1.0\n",
      "  (2, 272907)\t1.0\n",
      "  (2, 229)\t1.0\n",
      "  (2, 3)\t1.0\n",
      "  (2, 1)\t1.0\n",
      "0.000616772252945 0.999383227747\n"
     ]
    }
   ],
   "source": [
    "from sklearn.preprocessing import OneHotEncoder as OHE\n",
    "from sklearn.preprocessing import LabelEncoder as LE\n",
    "train_path = './TraData.csv'\n",
    "data = pd.read_csv(train_path, sep=',')\n",
    "label = data.click\n",
    "del data['click'] # 記得別讓答案變成一組 feature ，這樣 model 就直接看到答案了\n",
    "# 特徵選擇、降維 改交給 SVD 分解完成\n",
    "del data['spaceCat']\n",
    "del data['adType']\n",
    "del data['os']\n",
    "del data['deviceType']\n",
    "del data['publisherId']\n",
    "del data['dclkVerticals']\n",
    "del data['campaignId']\n",
    "del data['advertiserId']\n",
    "le_list = {}\n",
    "for key, value in data.iteritems():\n",
    "    le_list[key] = LE() ## 字串特徵轉屬性資料（類別）\n",
    "    data[key] = le_list[key].fit_transform(value) ## csv 檔中 feature 均為屬性資料\n",
    "\n",
    "ohe = OHE() # 屬性資料是離散資料，進入 SVM, MLP 等模型之前必須轉獨熱編碼\n",
    "data = ohe.fit_transform(data)\n",
    "print data[:3] ## 印出隨機三筆資料觀察\n",
    "\n",
    "pos_num = np.sum(label==1)\n",
    "neg_num = len(label)-pos_num\n",
    "pos_r = pos_num / float(len(label))\n",
    "neg_r = neg_num / float(len(label))\n",
    "print pos_r, neg_r # 印出類別權重\n"
   ]
  },
  {
   "cell_type": "markdown",
   "metadata": {},
   "source": [
    "設定模型參數、建構模型"
   ]
  },
  {
   "cell_type": "code",
   "execution_count": 42,
   "metadata": {
    "collapsed": true
   },
   "outputs": [],
   "source": [
    "def build_model(input_size):\n",
    "    model = Sequential()\n",
    "    # model.add(Flatten(input_shape=[input_size]))\n",
    "    model.add(Dropout(0.14, input_shape=[input_size])) ## 訓練時，隨機無視一些輸入資料 (設成 0)，可以減少 overfitting\n",
    "    model.add(Dense(128, activation='relu'))\n",
    "    model.add(Dropout(0.5)) \n",
    "    ## 訓練時，把一些 weight 的傳遞在 forward-pass 時取消 (weight 設成 0) ，在 backward-pass 的時候不將 loss 傳遞回去，\n",
    "    ## 除了可以當作一種 regularization 減少 overfitting，也可以視為一種 bagging 手段\n",
    "    model.add(Dense(128, activation='relu'))\n",
    "    model.add(Dropout(0.5))\n",
    "    model.add(Dense(128, activation='relu'))\n",
    "    model.add(Dropout(0.5))\n",
    "    model.add(Dense(1, activation='sigmoid'))\n",
    "    model.compile(loss=keras.losses.binary_crossentropy,\n",
    "              optimizer=keras.optimizers.Adam(lr=0.001),\n",
    "              metrics=['accuracy'])\n",
    "    return model\n",
    "\n",
    "earlyStopping = EarlyStopping(monitor='loss', patience=3, mode='auto')"
   ]
  },
  {
   "cell_type": "markdown",
   "metadata": {},
   "source": [
    "3-fold Cross-validation"
   ]
  },
  {
   "cell_type": "code",
   "execution_count": 43,
   "metadata": {},
   "outputs": [
    {
     "name": "stdout",
     "output_type": "stream",
     "text": [
      "info: 0.56\n",
      "_________________________________________________________________\n",
      "Layer (type)                 Output Shape              Param #   \n",
      "=================================================================\n",
      "dropout_149 (Dropout)        (None, 100)               0         \n",
      "_________________________________________________________________\n",
      "dense_149 (Dense)            (None, 128)               12928     \n",
      "_________________________________________________________________\n",
      "dropout_150 (Dropout)        (None, 128)               0         \n",
      "_________________________________________________________________\n",
      "dense_150 (Dense)            (None, 128)               16512     \n",
      "_________________________________________________________________\n",
      "dropout_151 (Dropout)        (None, 128)               0         \n",
      "_________________________________________________________________\n",
      "dense_151 (Dense)            (None, 128)               16512     \n",
      "_________________________________________________________________\n",
      "dropout_152 (Dropout)        (None, 128)               0         \n",
      "_________________________________________________________________\n",
      "dense_152 (Dense)            (None, 1)                 129       \n",
      "=================================================================\n",
      "Total params: 46,081\n",
      "Trainable params: 46,081\n",
      "Non-trainable params: 0\n",
      "_________________________________________________________________\n",
      "Epoch 1/100\n",
      "790/790 [==============================] - 2s 3ms/step - loss: 0.6942 - acc: 0.5215\n",
      "Epoch 2/100\n",
      "790/790 [==============================] - 0s 175us/step - loss: 0.6919 - acc: 0.5304\n",
      "Epoch 3/100\n",
      "790/790 [==============================] - 0s 183us/step - loss: 0.6817 - acc: 0.5823\n",
      "Epoch 4/100\n",
      "790/790 [==============================] - 0s 189us/step - loss: 0.6642 - acc: 0.6253\n",
      "Epoch 5/100\n",
      "790/790 [==============================] - 0s 190us/step - loss: 0.6428 - acc: 0.6772\n",
      "Epoch 6/100\n",
      "790/790 [==============================] - 0s 147us/step - loss: 0.6172 - acc: 0.6797\n",
      "Epoch 7/100\n",
      "790/790 [==============================] - 0s 190us/step - loss: 0.5950 - acc: 0.6924\n",
      "Epoch 8/100\n",
      "790/790 [==============================] - 0s 173us/step - loss: 0.5780 - acc: 0.7013\n",
      "Epoch 9/100\n",
      "790/790 [==============================] - 0s 152us/step - loss: 0.5675 - acc: 0.7114\n",
      "Epoch 10/100\n",
      "790/790 [==============================] - 0s 175us/step - loss: 0.5581 - acc: 0.7013\n",
      "Epoch 11/100\n",
      "790/790 [==============================] - 0s 195us/step - loss: 0.5471 - acc: 0.7127\n",
      "Epoch 12/100\n",
      "790/790 [==============================] - 0s 179us/step - loss: 0.5297 - acc: 0.7405\n",
      "Epoch 13/100\n",
      "790/790 [==============================] - 0s 161us/step - loss: 0.5071 - acc: 0.7430\n",
      "Epoch 14/100\n",
      "790/790 [==============================] - 0s 143us/step - loss: 0.4730 - acc: 0.7848\n",
      "Epoch 15/100\n",
      "790/790 [==============================] - 0s 183us/step - loss: 0.4999 - acc: 0.7532\n",
      "Epoch 16/100\n",
      "790/790 [==============================] - 0s 156us/step - loss: 0.4863 - acc: 0.7481\n",
      "Epoch 17/100\n",
      "790/790 [==============================] - 0s 145us/step - loss: 0.4907 - acc: 0.7481\n",
      "f1: 0.5641%\n",
      "info: 0.56\n",
      "Epoch 1/100\n",
      "790/790 [==============================] - 2s 3ms/step - loss: 0.6981 - acc: 0.5089\n",
      "Epoch 2/100\n",
      "790/790 [==============================] - 0s 214us/step - loss: 0.6721 - acc: 0.6203\n",
      "Epoch 3/100\n",
      "790/790 [==============================] - 0s 184us/step - loss: 0.6577 - acc: 0.6241\n",
      "Epoch 4/100\n",
      "790/790 [==============================] - 0s 162us/step - loss: 0.6339 - acc: 0.6722\n",
      "Epoch 5/100\n",
      "790/790 [==============================] - 0s 185us/step - loss: 0.6182 - acc: 0.6797\n",
      "Epoch 6/100\n",
      "790/790 [==============================] - 0s 203us/step - loss: 0.5892 - acc: 0.7076\n",
      "Epoch 7/100\n",
      "790/790 [==============================] - 0s 201us/step - loss: 0.5745 - acc: 0.6975\n",
      "Epoch 8/100\n",
      "790/790 [==============================] - 0s 181us/step - loss: 0.5549 - acc: 0.7139\n",
      "Epoch 9/100\n",
      "790/790 [==============================] - 0s 165us/step - loss: 0.5176 - acc: 0.7506\n",
      "Epoch 10/100\n",
      "790/790 [==============================] - 0s 173us/step - loss: 0.5198 - acc: 0.7557\n",
      "Epoch 11/100\n",
      "790/790 [==============================] - 0s 159us/step - loss: 0.4984 - acc: 0.7570\n",
      "Epoch 12/100\n",
      "790/790 [==============================] - 0s 201us/step - loss: 0.4885 - acc: 0.7582\n",
      "Epoch 13/100\n",
      "790/790 [==============================] - 0s 182us/step - loss: 0.5152 - acc: 0.7519\n",
      "Epoch 14/100\n",
      "790/790 [==============================] - 0s 152us/step - loss: 0.4736 - acc: 0.7709\n",
      "Epoch 15/100\n",
      "790/790 [==============================] - 0s 200us/step - loss: 0.4989 - acc: 0.7557\n",
      "Epoch 16/100\n",
      "790/790 [==============================] - 0s 183us/step - loss: 0.4748 - acc: 0.7608\n",
      "Epoch 17/100\n",
      "790/790 [==============================] - 0s 192us/step - loss: 0.4783 - acc: 0.7557\n",
      "f1: 0.6055%\n",
      "info: 0.55\n",
      "Epoch 1/100\n",
      "792/792 [==============================] - 2s 3ms/step - loss: 0.6961 - acc: 0.4937\n",
      "Epoch 2/100\n",
      "792/792 [==============================] - 0s 176us/step - loss: 0.6840 - acc: 0.5669\n",
      "Epoch 3/100\n",
      "792/792 [==============================] - 0s 147us/step - loss: 0.6772 - acc: 0.5669\n",
      "Epoch 4/100\n",
      "792/792 [==============================] - 0s 188us/step - loss: 0.6642 - acc: 0.5821\n",
      "Epoch 5/100\n",
      "792/792 [==============================] - 0s 192us/step - loss: 0.6452 - acc: 0.6338\n",
      "Epoch 6/100\n",
      "792/792 [==============================] - 0s 163us/step - loss: 0.6181 - acc: 0.6629\n",
      "Epoch 7/100\n",
      "792/792 [==============================] - 0s 170us/step - loss: 0.5787 - acc: 0.7210\n",
      "Epoch 8/100\n",
      "792/792 [==============================] - 0s 153us/step - loss: 0.5410 - acc: 0.7336\n",
      "Epoch 9/100\n",
      "792/792 [==============================] - 0s 167us/step - loss: 0.5360 - acc: 0.7386\n",
      "Epoch 10/100\n",
      "792/792 [==============================] - 0s 130us/step - loss: 0.5315 - acc: 0.7412\n",
      "Epoch 11/100\n",
      "792/792 [==============================] - 0s 152us/step - loss: 0.5126 - acc: 0.7525\n",
      "Epoch 12/100\n",
      "792/792 [==============================] - 0s 140us/step - loss: 0.5039 - acc: 0.7500\n",
      "Epoch 13/100\n",
      "792/792 [==============================] - 0s 139us/step - loss: 0.4923 - acc: 0.7639\n",
      "Epoch 14/100\n",
      "792/792 [==============================] - 0s 134us/step - loss: 0.4800 - acc: 0.7879\n",
      "Epoch 15/100\n",
      "792/792 [==============================] - 0s 133us/step - loss: 0.4860 - acc: 0.7500\n",
      "Epoch 16/100\n",
      "792/792 [==============================] - 0s 165us/step - loss: 0.4570 - acc: 0.7828\n",
      "Epoch 17/100\n",
      "792/792 [==============================] - 0s 150us/step - loss: 0.4710 - acc: 0.7828\n",
      "Epoch 18/100\n",
      "792/792 [==============================] - 0s 160us/step - loss: 0.4811 - acc: 0.7727\n",
      "Epoch 19/100\n",
      "792/792 [==============================] - 0s 147us/step - loss: 0.4814 - acc: 0.7538\n",
      "f1: 0.5502%\n",
      "f1.avg: 0.5733% (+/- 0.0235%)\n"
     ]
    }
   ],
   "source": [
    "from sklearn.model_selection import StratifiedKFold\n",
    "from sklearn.metrics import f1_score\n",
    "rds = RandomUnderSampler()\n",
    "# rds = SMOTE()\n",
    "svd = TruncatedSVD(n_components=100) # 降維，維度太高會發生'維度災難'\n",
    "cvscores = []\n",
    "kfold = StratifiedKFold(n_splits=3, shuffle=True)\n",
    "first=True\n",
    "for train, test in kfold.split(data, label):\n",
    "    # Fit the data\n",
    "    X, y = rds.fit_sample(data[train], label[train])\n",
    "    X = svd.fit_transform(X)\n",
    "    print 'info: %.2f'%np.sum(svd.explained_variance_ratio_)\n",
    "    # Build the model\n",
    "    model = build_model(X.shape[1])\n",
    "    if first:\n",
    "        model.summary()\n",
    "        first=False\n",
    "    # Train the model\n",
    "    model.fit(X, y, epochs=100, batch_size=64, verbose=1, callbacks=[earlyStopping])\n",
    "    # evaluate the model\n",
    "    pred = model.predict(svd.transform(data[test]), verbose=0)\n",
    "    pred[pred<0.5] = 0\n",
    "    pred[pred>0] = 1\n",
    "    score = f1_score(pred, label[test])\n",
    "    print(\"f1: %.4f%%\"%(np.clip(score*100.,0.,100.)))\n",
    "    cvscores.append(score)\n",
    "print(\"f1.avg: %.4f%% (+/- %.4f%%)\" % (np.mean(cvscores)*100., np.std(cvscores)*100.))"
   ]
  },
  {
   "cell_type": "code",
   "execution_count": 33,
   "metadata": {},
   "outputs": [
    {
     "name": "stdout",
     "output_type": "stream",
     "text": [
      "Epoch 1/10\n",
      "802/802 [==============================] - 2s 3ms/step - loss: 0.7059 - acc: 0.5025\n",
      "Epoch 2/10\n",
      "802/802 [==============================] - 0s 291us/step - loss: 0.6883 - acc: 0.5362\n",
      "Epoch 3/10\n",
      "802/802 [==============================] - 0s 277us/step - loss: 0.6754 - acc: 0.5873\n",
      "Epoch 4/10\n",
      "802/802 [==============================] - 0s 286us/step - loss: 0.6442 - acc: 0.6397\n",
      "Epoch 5/10\n",
      "802/802 [==============================] - 0s 269us/step - loss: 0.6047 - acc: 0.6995\n",
      "Epoch 6/10\n",
      "802/802 [==============================] - 0s 297us/step - loss: 0.5717 - acc: 0.7132\n",
      "Epoch 7/10\n",
      "802/802 [==============================] - 0s 306us/step - loss: 0.5384 - acc: 0.7232\n",
      "Epoch 8/10\n",
      "802/802 [==============================] - 0s 306us/step - loss: 0.5327 - acc: 0.7294\n",
      "Epoch 9/10\n",
      "802/802 [==============================] - 0s 271us/step - loss: 0.5158 - acc: 0.7319\n",
      "Epoch 10/10\n",
      "802/802 [==============================] - 0s 323us/step - loss: 0.4778 - acc: 0.7743\n",
      "[[277220  43074]\n",
      " [    62    130]]\n",
      "             precision    recall  f1-score   support\n",
      "\n",
      "          0       1.00      0.87      0.93    320294\n",
      "          1       0.00      0.68      0.01       192\n",
      "\n",
      "avg / total       1.00      0.87      0.93    320486\n",
      "\n",
      "0.00599133560697\n"
     ]
    }
   ],
   "source": [
    "from sklearn.model_selection import train_test_split\n",
    "from sklearn.metrics import f1_score\n",
    "X_train, X_test, Y_train, Y_test = train_test_split(data, label, test_size=0.33333333333)\n",
    "X_train, Y_train = rds.fit_sample(X_train, Y_train)\n",
    "X_train_svd = svd.fit_transform(X_train)\n",
    "X_test_svd = svd.transform(X_test)\n",
    "model = build_model(X_train_svd.shape[1])\n",
    "model.fit(X_train_svd, Y_train)\n",
    "predicted = model.predict(X_test_svd).flatten()\n",
    "predicted[predicted<0.5] = 0\n",
    "predicted[predicted>0] = 1\n",
    "confusion_metrix = skl.metrics.confusion_matrix(Y_test, predicted)\n",
    "inclass_precision = skl.metrics.classification_report(Y_test, predicted)\n",
    "score = f1_score(predicted,Y_test)\n",
    "print(confusion_metrix)\n",
    "print(inclass_precision)\n",
    "print(score)"
   ]
  },
  {
   "cell_type": "markdown",
   "metadata": {},
   "source": [
    "SVD 分解、可視化"
   ]
  },
  {
   "cell_type": "code",
   "execution_count": 44,
   "metadata": {
    "collapsed": true
   },
   "outputs": [],
   "source": [
    "def plot_embedding(x_emb,y,n,title=''): ## visualization\n",
    "    cmap = plt.cm.gist_ncar_r\n",
    "    ax = plt.subplot()\n",
    "    for l in xrange(n):\n",
    "        points = x_emb[y==l,:]\n",
    "        ax.scatter(points[:,0], points[:,1], label=l, c=cmap(float(l)/float(n)))\n",
    "    ax.legend(loc='lower right', frameon=True, prop={'size': 10})\n",
    "    ax.set_title(title)\n",
    "    plt.show()"
   ]
  },
  {
   "cell_type": "code",
   "execution_count": 45,
   "metadata": {
    "collapsed": true
   },
   "outputs": [],
   "source": [
    "svdvis = TruncatedSVD(n_components=2)\n",
    "embedding = svdvis.fit_transform(X_test)"
   ]
  },
  {
   "cell_type": "code",
   "execution_count": 9,
   "metadata": {},
   "outputs": [
    {
     "data": {
      "image/png": "[encoded data removed]",
      "text/plain": [
       "<matplotlib.figure.Figure at 0x7f3933526950>"
      ]
     },
     "metadata": {},
     "output_type": "display_data"
    }
   ],
   "source": [
    "plot_embedding(embedding, Y_test, 2, 'Expected SVD') ## 視覺化, 看起來幾乎不是線性可分的"
   ]
  },
  {
   "cell_type": "code",
   "execution_count": 46,
   "metadata": {},
   "outputs": [
    {
     "data": {
      "image/png": "[encoded data removed]",
      "text/plain": [
       "<matplotlib.figure.Figure at 0x7f3936d8bed0>"
      ]
     },
     "metadata": {},
     "output_type": "display_data"
    }
   ],
   "source": [
    "confusion_metrix = skl.metrics.confusion_matrix(Y_test, predicted)\n",
    "inclass_precision = skl.metrics.classification_report(Y_test, predicted)\n",
    "plot_embedding(embedding, predicted, 2, 'Predicted SVD')"
   ]
  },
  {
   "cell_type": "markdown",
   "metadata": {},
   "source": [
    "看來挺糟糕的 :\\"
   ]
  },
  {
   "cell_type": "markdown",
   "metadata": {},
   "source": [
    "補充從 R script 得到的這份 training data 的 ANOVA 結果（從九十萬筆資料隨機抽樣5000筆資料）：\n",
    "\n",
    "```R\n",
    "               Df Sum Sq  Mean Sq   F value Pr(>F)    \n",
    "adx             1  0.000 0.000003 2.192e+23 <2e-16 ***\n",
    "spaceType       1  0.000 0.000011 9.356e+23 <2e-16 ***\n",
    "spaceId       128  0.516 0.004034 3.451e+26 <2e-16 ***\n",
    "ip           4839  3.480 0.000719 6.154e+25 <2e-16 ***\n",
    "os              3  0.000 0.000000 2.000e-03 0.9999    \n",
    "campaignId      1  0.000 0.000000 3.089e+00 0.0911 .  \n",
    "advertiserId    1  0.000 0.000000 1.496e+00 0.2327    \n",
    "Residuals      25  0.000 0.000000                     \n",
    "---\n",
    "Signif. codes:  0 ‘***’ 0.001 ‘**’ 0.01 ‘*’ 0.05 ‘.’ 0.1 ‘ ’ 1\n",
    "```\n",
    "\n",
    "可以看出 adx, spaceType, spaceId, ip 對 click 的影響似乎是顯著的？\n",
    "\n",
    "也許可以實驗看看只選擇 adx, spaceType, spaceId, ip 當作 feature？或是使用 PCA 做降維？\n",
    "\n",
    "因為他們對 click 的影響較顯著？ p<0.05"
   ]
  }
 ],
 "metadata": {
  "kernelspec": {
   "display_name": "Python 2",
   "language": "python",
   "name": "python2"
  },
  "language_info": {
   "codemirror_mode": {
    "name": "ipython",
    "version": 2
   },
   "file_extension": ".py",
   "mimetype": "text/x-python",
   "name": "python",
   "nbconvert_exporter": "python",
   "pygments_lexer": "ipython2",
   "version": "2.7.12"
  }
 },
 "nbformat": 4,
 "nbformat_minor": 2
}
